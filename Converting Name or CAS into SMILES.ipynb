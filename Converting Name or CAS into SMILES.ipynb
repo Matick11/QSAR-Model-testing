{
 "cells": [
  {
   "cell_type": "code",
   "execution_count": 2,
   "metadata": {},
   "outputs": [],
   "source": [
    "#Changing Molecules to SMILES string and saving them back to excel file for easier automation\n",
    "import pandas as pd"
   ]
  },
  {
   "cell_type": "code",
   "execution_count": 47,
   "metadata": {},
   "outputs": [],
   "source": [
    "#read dataset from local computer\n",
    "df = pd.read_excel(r\"C:\\Users\\matic\\OneDrive\\Desktop\\Končne tabele t QSAR\\#2.xlsx\")"
   ]
  },
  {
   "cell_type": "code",
   "execution_count": 126,
   "metadata": {},
   "outputs": [],
   "source": [
    "#CAS\n",
    "import requests\n",
    "\n",
    "# Function to get SMILES from CAS number\n",
    "def get_smiles_from_cas(cas_number):\n",
    "    try:\n",
    "        # PubChem REST API to convert CAS number to SMILES\n",
    "        url = f\"https://pubchem.ncbi.nlm.nih.gov/rest/pug/compound/name/{cas_number}/property/CanonicalSMILES/JSON\"\n",
    "        \n",
    "        # Make the request\n",
    "        response = requests.get(url)\n",
    "        \n",
    "        # If the request is successful (status code 200)\n",
    "        if response.status_code == 200:\n",
    "            data = response.json()\n",
    "            # Extract the SMILES string from the response\n",
    "            smiles = data['PropertyTable']['Properties'][0]['CanonicalSMILES']\n",
    "            return smiles\n",
    "        else:\n",
    "            return f\"Error fetching SMILES for CAS {cas_number}\"\n",
    "    \n",
    "    except Exception as e:\n",
    "        return f\"Error: {e}\"\n",
    "\n",
    "# Assuming df is your DataFrame that already has the \"CAS\" column\n",
    "# Apply the function to the \"CAS\" column to generate the \"SMILES\" column\n",
    "df['SMILES'] = df['CAS'].apply(get_smiles_from_cas)\n"
   ]
  },
  {
   "cell_type": "code",
   "execution_count": 135,
   "metadata": {},
   "outputs": [],
   "source": [
    "#name\n",
    "import requests\n",
    "\n",
    "# Function to get SMILES from chemical name\n",
    "def get_smiles(name):\n",
    "    try:\n",
    "        # PubChem REST API to convert chemical name to SMILES\n",
    "        url = f\"https://pubchem.ncbi.nlm.nih.gov/rest/pug/compound/name/{name}/property/CanonicalSMILES/JSON\"\n",
    "        \n",
    "        # Make the request\n",
    "        response = requests.get(url)\n",
    "        \n",
    "        # If the request is successful (status code 200)\n",
    "        if response.status_code == 200:\n",
    "            data = response.json()\n",
    "            # Extract the SMILES string from the response\n",
    "            smiles = data['PropertyTable']['Properties'][0]['CanonicalSMILES']\n",
    "            return smiles\n",
    "        else:\n",
    "            return f\"Error fetching SMILES for {name}\"\n",
    "    \n",
    "    except Exception as e:\n",
    "        return f\"Error: {e}\"\n",
    "\n",
    "# Loop through the list of chemical names\n",
    "smiles_list = []\n",
    "for name in name:\n",
    "    smiles = get_smiles(name)\n",
    "    smiles_list.append(smiles)\n",
    "\n",
    "df[\"SMILES\"] = smiles_list\n"
   ]
  }
 ],
 "metadata": {
  "kernelspec": {
   "display_name": "my-rdkit-env",
   "language": "python",
   "name": "python3"
  },
  "language_info": {
   "codemirror_mode": {
    "name": "ipython",
    "version": 3
   },
   "file_extension": ".py",
   "mimetype": "text/x-python",
   "name": "python",
   "nbconvert_exporter": "python",
   "pygments_lexer": "ipython3",
   "version": "3.10.13"
  }
 },
 "nbformat": 4,
 "nbformat_minor": 2
}
